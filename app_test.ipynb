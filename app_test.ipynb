{
 "cells": [
  {
   "cell_type": "markdown",
   "metadata": {},
   "source": [
    "## Importing Dependencies"
   ]
  },
  {
   "cell_type": "code",
   "execution_count": 2,
   "metadata": {},
   "outputs": [],
   "source": [
    "import requests\n",
    "from htmldate import find_date\n",
    "from datetime import datetime\n",
    "import requests\n",
    "import re\n",
    "from bs4 import BeautifulSoup\n",
    "import ssl\n",
    "from tqdm import tqdm\n",
    "from textblob import TextBlob\n",
    "import openai\n",
    "\n",
    "from html_extractor import *\n",
    "from get_suburls import *\n",
    "from openai_func import *\n",
    "\n",
    "from keyword_extraction import keyword_extractor_paragraph as kep"
   ]
  },
  {
   "cell_type": "markdown",
   "metadata": {},
   "source": [
    "## Extracting sub urls"
   ]
  },
  {
   "cell_type": "code",
   "execution_count": 3,
   "metadata": {},
   "outputs": [
    {
     "name": "stderr",
     "output_type": "stream",
     "text": [
      "  0%|          | 0/1 [00:00<?, ?it/s]"
     ]
    },
    {
     "name": "stderr",
     "output_type": "stream",
     "text": [
      "100%|██████████| 1/1 [00:00<00:00,  1.27it/s]"
     ]
    },
    {
     "name": "stdout",
     "output_type": "stream",
     "text": [
      "Inside URLs: {0: ['https://www.khaleejtimes.com'], 1: ['https://www.khaleejtimes.com/mykt', 'https://www.khaleejtimes.com/trading', 'https://www.khaleejtimes.com/contact-us', 'https://www.khaleejtimes.com/uae', 'https://www.khaleejtimes.com/uae/local-plus', 'https://www.khaleejtimes.com/weather', 'https://www.khaleejtimes.com/guide-to-uae', 'https://www.khaleejtimes.com/life-and-living/getting-a-loan', 'https://www.khaleejtimes.com/life-and-living/schools-in-the-uae', 'https://www.khaleejtimes.com/life-and-living/renting-in-the-uae', 'https://www.khaleejtimes.com/ramadan-2024', 'https://www.khaleejtimes.com/world', 'https://www.khaleejtimes.com/asia/india', 'https://www.khaleejtimes.com/asia/pakistan', 'https://www.khaleejtimes.com/world/americas', 'https://www.khaleejtimes.com/world/europe', 'https://www.khaleejtimes.com/world/africa', 'https://www.khaleejtimes.com/opinion', 'https://www.khaleejtimes.com/business', 'https://www.khaleejtimes.com/business/auto', 'https://www.khaleejtimes.com/business/markets', 'https://www.khaleejtimes.com/business/economy', 'https://www.khaleejtimes.com/business/banking-and-finance', 'https://www.khaleejtimes.com/business/energy', 'https://www.khaleejtimes.com/business/infrastructure', 'https://www.khaleejtimes.com/business/telecom', 'https://www.khaleejtimes.com/kt-network', 'https://www.khaleejtimes.com/sports', 'https://www.khaleejtimes.com/cricket-world-cup-2023', 'https://www.khaleejtimes.com/sports/cricket', 'https://www.khaleejtimes.com/sports/football', 'https://www.khaleejtimes.com/sports/f-1', 'https://www.khaleejtimes.com/sports/golf', 'https://www.khaleejtimes.com/sports/horse-racing', 'https://www.khaleejtimes.com/sports/tennis', 'https://www.khaleejtimes.com/entertainment', 'https://www.khaleejtimes.com/entertainment/music', 'https://www.khaleejtimes.com/dubai-world-cup', 'https://www.khaleejtimes.com/lifestyle', 'https://www.khaleejtimes.com/travel', 'https://www.khaleejtimes.com/entertainment', 'https://www.khaleejtimes.com/lifestyle', 'https://www.youngtimes.com/', 'https://brb.khaleejtimes.com/', 'https://buzzon.khaleejtimes.com/', 'https://ktgamez.com/', 'https://www.khaleejtimes.com/business-technology-review', 'https://www.khaleejtimes.com/supplements', 'https://epaper.khaleejtimes.com/supplements/20231221/page/1', 'https://esupplements.khaleejtimes.com/31902/30-11-2023', 'https://esupplements.khaleejtimes.com/31902/29-11-2023', 'https://esupplements.khaleejtimes.com/31902/30-10-2023', 'https://ebtr.khaleejtimes.com/', 'https://esupplements.khaleejtimes.com/31902/24-08-2023', 'https://esupplements.khaleejtimes.com/31902/15-08-2023', 'https://esupplements.khaleejtimes.com/31902/14-08-2023', 'https://esupplements.khaleejtimes.com/31902/24-06-2023', 'https://esupplements.khaleejtimes.com/31902/23-06-2023', 'https://esupplements.khaleejtimes.com/31902/16-06-2023', 'https://esupplements.khaleejtimes.com/31902/29-05-2023', 'https://esupplements.khaleejtimes.com/31902/24-05-2023', 'https://esupplements.khaleejtimes.com/31902/26-04-2023', 'https://esupplements.khaleejtimes.com/31902/28-03-2023', 'https://esupplements.khaleejtimes.com/31902/24-03-2023', 'https://esupplements.khaleejtimes.com/31902/23-03-2023', 'https://esupplements.khaleejtimes.com/31902/28-02-2023', 'https://www.khaleejtimes.com/kt-engage', 'https://emetrolife.khaleejtimes.com/', 'https://khaleejtimesevents.com/', 'https://indianrealestateshow.com/', 'https://futureofinsurancecongress.com/', 'https://ktdesertdrive.com/', 'https://www.ktuniexpo.com/', 'https://newagefinanceexpo.com/', 'https://dhf.khaleejtimesevents.com/', 'https://artelligenceforum.com/', 'https://www.ktuniexpo.com/', 'https://digipaysummit.com/', 'https://fosc.khaleejtimesevents.com/', 'https://www.gif.khaleejtimesevents.com/', 'https://coupons.khaleejtimes.com/', 'https://subscriptions.khaleejtimes.com/', 'https://esupplements.khaleejtimes.com/', 'https://ewknd.khaleejtimes.com/', 'https://epaper.khaleejtimes.com', 'https://buzzon.khaleejtimes.com/', 'https://itunes.apple.com/ae/app/khaleej-times/id909275381?mt=8', 'https://appgallery5.huawei.com/#/app/C101150783', 'https://www.khaleejtimes.com/uae', 'https://www.khaleejtimes.com/gold-forex', 'https://www.khaleejtimes.com/world', 'https://www.khaleejtimes.com/business', 'https://www.khaleejtimes.com/entertainment', 'https://www.khaleejtimes.com/lifestyle', 'https://www.khaleejtimes.com/sports', 'https://www.khaleejtimes.com/opinion', 'https://www.khaleejtimes.com/kt-shows', 'https://www.khaleejtimes.com/videos', 'https://www.khaleejtimes.com/supplements', 'https://khaleejtimesevents.com/', 'https://www.khaleejtimes.com/mykt', 'https://www.khaleejtimes.com/new-year/live-uae-to-step-into-new-year-2024-with-record-breaking-fireworks-drone-shows', 'https://www.khaleejtimes.com/new-year/live-uae-to-step-into-new-year-2024-with-record-breaking-fireworks-drone-shows', 'https://www.khaleejtimes.com/world/not-yet-new-year-its-still-2023-in-these-countries-territories', 'https://www.khaleejtimes.com/world/not-yet-new-year-its-still-2023-in-these-countries-territories', 'https://www.khaleejtimes.com/business/energy/uae-reduces-petrol-prices-for-january-2024-rate-now-among-lowest-in-a-year', 'https://www.khaleejtimes.com/business/energy/uae-reduces-petrol-prices-for-january-2024-rate-now-among-lowest-in-a-year', 'https://www.khaleejtimes.com/uae/uaes-mahzooz-emirates-draw-stop-operations-will-past-winners-still-get-their-money', 'https://www.khaleejtimes.com/uae/uaes-mahzooz-emirates-draw-stop-operations-will-past-winners-still-get-their-money', 'https://www.khaleejtimes.com/uae/dubai-more-than-2-million-passengers-use-public-transport-on-new-years-eve', 'https://www.khaleejtimes.com/uae/dubai-more-than-2-million-passengers-use-public-transport-on-new-years-eve', 'https://www.khaleejtimes.com/new-year/nye-in-uae-rak-breaks-2-world-records-with-fireworks-carpet-over-1000-drones', 'https://www.khaleejtimes.com/new-year/nye-in-uae-rak-breaks-2-world-records-with-fireworks-carpet-over-1000-drones', 'https://www.khaleejtimes.com/new-year/unforgettable-evening-uae-new-years-eve-a-magnet-for-visitors-from-around-the-world', 'https://www.khaleejtimes.com/new-year/unforgettable-evening-uae-new-years-eve-a-magnet-for-visitors-from-around-the-world', 'https://www.khaleejtimes.com/new-year/new-year-celebrations-in-uae-abu-dhabi-welcomes-2024-with-40-minute-fireworks', 'https://www.khaleejtimes.com/new-year/new-year-celebrations-in-uae-abu-dhabi-welcomes-2024-with-40-minute-fireworks', 'https://www.khaleejtimes.com/uae/uae-after-mahzooz-emirates-draw-pauses-operation-from-jan-1', 'https://www.khaleejtimes.com/uae/uae-after-mahzooz-emirates-draw-pauses-operation-from-jan-1', 'https://www.khaleejtimes.com/uae/watch-workers-in-dubai-jump-to-action-after-new-years-eve-spend-jan-1-cleaning-streets', 'https://www.khaleejtimes.com/uae/watch-workers-in-dubai-jump-to-action-after-new-years-eve-spend-jan-1-cleaning-streets', 'https://www.khaleejtimes.com/uae/uae-al-ain-driver-wins-dh20-million-grand-prize-in-big-ticket-draw', 'https://www.khaleejtimes.com/uae/uae-al-ain-driver-wins-dh20-million-grand-prize-in-big-ticket-draw', 'https://www.khaleejtimes.com/uae/education/how-are-uae-parents-gearing-up-for-back-to-school-buzz-after-winter-break', 'https://www.khaleejtimes.com/uae/education/how-are-uae-parents-gearing-up-for-back-to-school-buzz-after-winter-break', 'https://www.khaleejtimes.com/new-year/look-this-uae-baby-was-born-8-mins-after-midnight-on-new-year', 'https://www.khaleejtimes.com/new-year/look-this-uae-baby-was-born-8-mins-after-midnight-on-new-year', 'https://www.khaleejtimes.com/world/asia/major-earthquakes-tsunami-waves-leave-parts-of-japan-without-power', 'https://www.khaleejtimes.com/world/asia/major-earthquakes-tsunami-waves-leave-parts-of-japan-without-power', 'https://www.khaleejtimes.com/new-year/live-uae-to-step-into-new-year-2024-with-record-breaking-fireworks-drone-shows', 'https://www.khaleejtimes.com/uae/uae-petrol-diesel-prices-for-january-2024-announced', 'https://www.khaleejtimes.com/uae/from-working-at-small-shop-to-billionaire-boss-lulus-yusuffali-completes-50-year-dream-run-in-uae-2', 'https://www.khaleejtimes.com/uae/uae-royal-passes-away-on-december-31', 'https://www.khaleejtimes.com/new-year/uae-new-road-closure-announced-for-nye-celebrations', 'https://www.khaleejtimes.com/business/trends-and-challenges-for-uaes-health-insurance-industry-in-2024-gargash-insurance', 'https://www.khaleejtimes.com/business/trends-and-challenges-for-uaes-health-insurance-industry-in-2024-gargash-insurance', 'https://www.khaleejtimes.com/lifestyle/why-is-your-car-engine-not-starting-in-the-morning', 'https://www.khaleejtimes.com/lifestyle/why-is-your-car-engine-not-starting-in-the-morning', 'https://www.khaleejtimes.com/lifestyle/from-settling-phone-bills-to-automatic-salik-top-ups-careem-pay-is-here-to-simplify-your-life', 'https://www.khaleejtimes.com/lifestyle/from-settling-phone-bills-to-automatic-salik-top-ups-careem-pay-is-here-to-simplify-your-life', 'https://www.khaleejtimes.com/business/tech/istyle-this-seasons-apple-gifting-destination', 'https://www.khaleejtimes.com/business/tech/istyle-this-seasons-apple-gifting-destination', 'https://www.khaleejtimes.com/videos/beekeepers-reveal-the-healing-wonders-of-uae-mountain-honey', 'https://www.khaleejtimes.com/videos/beekeepers-reveal-the-healing-wonders-of-uae-mountain-honey', 'https://www.khaleejtimes.com/videos/dubai-why-loans-are-set-to-cost-less-in-2024', 'https://www.khaleejtimes.com/videos/dubai-why-loans-are-set-to-cost-less-in-2024', 'https://www.khaleejtimes.com/videos/cease-fire-in-gaza-today', 'https://www.khaleejtimes.com/videos/cease-fire-in-gaza-today', 'https://www.khaleejtimes.com/videos/international-city-fire-rescuers-residents-emerge-as-heroes-in-dubai-blaze', 'https://www.khaleejtimes.com/videos/international-city-fire-rescuers-residents-emerge-as-heroes-in-dubai-blaze', 'https://www.khaleejtimes.com/videos/gaza-78-killed-in-deadly-christmas-massacre', 'https://www.khaleejtimes.com/videos/gaza-78-killed-in-deadly-christmas-massacre', 'https://www.khaleejtimes.com/videos/covid-cases-rise-how-travellers-can-stay-safe-during-holiday-season', 'https://www.khaleejtimes.com/videos/covid-cases-rise-how-travellers-can-stay-safe-during-holiday-season', 'https://www.khaleejtimes.com/business/benefits-abound-for-early-adopters-of-cop-driven-regulations-for-the-construction-sector', 'https://www.khaleejtimes.com/business/benefits-abound-for-early-adopters-of-cop-driven-regulations-for-the-construction-sector', 'https://www.khaleejtimes.com/cop/how-cop28-taught-us-lessons-of-unity-need-for-action', 'https://www.khaleejtimes.com/cop/how-cop28-taught-us-lessons-of-unity-need-for-action', 'https://www.khaleejtimes.com/cop/cemex-unveiled-the-first-fully-electric-ready-mix-truck-in-the-middle-east-during-cop28-in-dubai', 'https://www.khaleejtimes.com/cop/cemex-unveiled-the-first-fully-electric-ready-mix-truck-in-the-middle-east-during-cop28-in-dubai', 'https://www.khaleejtimes.com/uae/local-plus/uae-young-residents-rediscover-an-old-way-of-listening-to-music', 'https://www.khaleejtimes.com/uae/local-plus/uae-young-residents-rediscover-an-old-way-of-listening-to-music', 'https://www.khaleejtimes.com/uae/a-truly-worthy-dish-emiratis-expats-on-love-for-harees-as-it-gets-global-recognition', 'https://www.khaleejtimes.com/uae/a-truly-worthy-dish-emiratis-expats-on-love-for-harees-as-it-gets-global-recognition', 'https://www.khaleejtimes.com/uae/local-plus/uae-this-high-school-students-bbq-delicacies-are-selling-like-hot-kebabs', 'https://www.khaleejtimes.com/uae/local-plus/uae-this-high-school-students-bbq-delicacies-are-selling-like-hot-kebabs', 'https://www.khaleejtimes.com/life-and-living/visa-and-immigration-in-uae/gcc-unified-visa-why-is-it-taking-time-for-tourist-permit-to-roll-out', 'https://www.khaleejtimes.com/life-and-living/visa-and-immigration-in-uae/gcc-unified-visa-why-is-it-taking-time-for-tourist-permit-to-roll-out', 'https://www.khaleejtimes.com/uae/us-embassy-in-uae-responds-to-high-visa-demand-plans-to-expedite-appointments', 'https://www.khaleejtimes.com/uae/us-embassy-in-uae-responds-to-high-visa-demand-plans-to-expedite-appointments', 'https://www.khaleejtimes.com/life-and-living/visa-and-immigration-in-uae/retirement-visa-in-dubai-cost-eligibility-all-you-need-to-know', 'https://www.khaleejtimes.com/life-and-living/visa-and-immigration-in-uae/retirement-visa-in-dubai-cost-eligibility-all-you-need-to-know', 'https://www.khaleejtimes.com/life-and-living/public-transport-in-uae/dubai-how-commuters-can-pay-taxi-fares-in-four-instalments', 'https://www.khaleejtimes.com/life-and-living/public-transport-in-uae/dubai-how-commuters-can-pay-taxi-fares-in-four-instalments', 'https://www.khaleejtimes.com/life-and-living/reporting-domestic-violence-in-uae-essential-contacts-and-knowing-your-rights', 'https://www.khaleejtimes.com/life-and-living/reporting-domestic-violence-in-uae-essential-contacts-and-knowing-your-rights', 'https://www.khaleejtimes.com/new-year/uae-free-parking-in-these-emirates-for-new-year-long-weekend', 'https://www.khaleejtimes.com/new-year/uae-free-parking-in-these-emirates-for-new-year-long-weekend', 'https://www.khaleejtimes.com/new-year/4-day-weekend-sharjah-government-announces-paid-holiday-for-new-year', 'https://www.khaleejtimes.com/new-year/4-day-weekend-sharjah-government-announces-paid-holiday-for-new-year', 'https://www.khaleejtimes.com/uae/legal/hiring-domestic-help-in-uae-minimum-salary-weekly-offs-all-you-need-to-know', 'https://www.khaleejtimes.com/uae/legal/hiring-domestic-help-in-uae-minimum-salary-weekly-offs-all-you-need-to-know', 'https://www.khaleejtimes.com/uae/watch-how-dubais-heroes-rescue-man-from-deadly-fire', 'https://www.khaleejtimes.com/uae/watch-how-dubais-heroes-rescue-man-from-deadly-fire', 'https://www.khaleejtimes.com/uae/legal/dubai-can-employees-file-a-complaint-if-asked-to-work-beyond-job-scope', 'https://www.khaleejtimes.com/uae/legal/dubai-can-employees-file-a-complaint-if-asked-to-work-beyond-job-scope', 'https://www.khaleejtimes.com/gold-forex', 'https://www.khaleejtimes.com/entertainment/popular-tv-judge-frank-caprio-diagnosed-with-cancer-on-his-birthday', 'https://www.khaleejtimes.com/entertainment/popular-tv-judge-frank-caprio-diagnosed-with-cancer-on-his-birthday', 'https://www.khaleejtimes.com/entertainment/julia-roberts-on-friends-co-star-and-ex-matthew-perrys-death', 'https://www.khaleejtimes.com/entertainment/julia-roberts-on-friends-co-star-and-ex-matthew-perrys-death', 'https://www.khaleejtimes.com/videos/entertainment/look-beyonce-dazzles-in-neon-green-sari-gown-during-renaissance-world-tour', 'https://www.khaleejtimes.com/videos/entertainment/look-beyonce-dazzles-in-neon-green-sari-gown-during-renaissance-world-tour', 'https://www.khaleejtimes.com/entertainment/madame-web-dune-2-deadpool-3-and-more-the-most-anticipated-movies-of-2024', 'https://www.khaleejtimes.com/entertainment/madame-web-dune-2-deadpool-3-and-more-the-most-anticipated-movies-of-2024', 'https://www.khaleejtimes.com/entertainment/movie-review-in-ferrari-michael-mann-puts-you-in-the-drivers-seat', 'https://www.khaleejtimes.com/entertainment/movie-review-in-ferrari-michael-mann-puts-you-in-the-drivers-seat', 'https://www.khaleejtimes.com/entertainment/what-if-dance-could-save-the-world', 'https://www.khaleejtimes.com/entertainment/what-if-dance-could-save-the-world', 'https://www.khaleejtimes.com/entertainment/from-katrina-kaif-to-anil-kapoor-bollywood-stars-extend-new-year-wishes', 'https://www.khaleejtimes.com/entertainment/from-katrina-kaif-to-anil-kapoor-bollywood-stars-extend-new-year-wishes', 'https://www.khaleejtimes.com/entertainment/kareena-kapoor-saif-ali-khan-add-royal-touch-to-new-year-celebrations', 'https://www.khaleejtimes.com/entertainment/kareena-kapoor-saif-ali-khan-add-royal-touch-to-new-year-celebrations', 'https://www.khaleejtimes.com/lifestyle/health/uae-50-free-heart-surgeries-for-children-announced-to-honour-lulus-yusuffali', 'https://www.khaleejtimes.com/lifestyle/health/uae-50-free-heart-surgeries-for-children-announced-to-honour-lulus-yusuffali', 'https://www.khaleejtimes.com/lifestyle/health/healing-and-creativity-through-movement', 'https://www.khaleejtimes.com/lifestyle/health/healing-and-creativity-through-movement', 'https://www.khaleejtimes.com/lifestyle/meet-the-husband-wife-duo-bringing-high-quality-palestinian-products-to-the-uae-market', 'https://www.khaleejtimes.com/lifestyle/meet-the-husband-wife-duo-bringing-high-quality-palestinian-products-to-the-uae-market', 'https://www.khaleejtimes.com/lifestyle/parenting/parenting-tips-how-to-embrace-the-power-of-i-dont-know', 'https://www.khaleejtimes.com/lifestyle/parenting/parenting-tips-how-to-embrace-the-power-of-i-dont-know', 'https://www.khaleejtimes.com/long-reads/can-reveal-deeper-emotions-triggers-uae-mental-health-experts-on-therapeutic-benefits-of-video-j', 'https://www.khaleejtimes.com/long-reads/can-reveal-deeper-emotions-triggers-uae-mental-health-experts-on-therapeutic-benefits-of-video-j', 'https://www.khaleejtimes.com/long-reads/from-geocaching-to-metal-detecting-meet-uae-residents-with-niche-interests-and-unusual-hobbies', 'https://www.khaleejtimes.com/long-reads/from-geocaching-to-metal-detecting-meet-uae-residents-with-niche-interests-and-unusual-hobbies', 'https://www.khaleejtimes.com/long-reads/from-coloured-beverages-to-coffee-creamers-7-food-items-nutritionists-will-avoid-at-all-costs', 'https://www.khaleejtimes.com/long-reads/from-coloured-beverages-to-coffee-creamers-7-food-items-nutritionists-will-avoid-at-all-costs', 'https://www.khaleejtimes.com/long-reads/the-rise-of-second-hand-gifting-dubai-residents-embrace-growing-trend-this-christmas', 'https://www.khaleejtimes.com/long-reads/the-rise-of-second-hand-gifting-dubai-residents-embrace-growing-trend-this-christmas', 'https://www.khaleejtimes.com/long-reads/from-instagrammer-to-war-correspondent-how-gaza-crisis-changed-this-palestinians-life', 'https://www.khaleejtimes.com/long-reads/from-instagrammer-to-war-correspondent-how-gaza-crisis-changed-this-palestinians-life', 'https://www.khaleejtimes.com/long-reads/how-urdu-the-language-of-love-blossoms-in-the-desert-metropolis-of-dubai', 'https://www.khaleejtimes.com/long-reads/how-urdu-the-language-of-love-blossoms-in-the-desert-metropolis-of-dubai', 'https://www.khaleejtimes.com/entertainment/countdown-to-midnight-at-garage-a-timeless-new-years-eve-bash-at-w-abu-dhabi', 'https://www.khaleejtimes.com/entertainment/countdown-to-midnight-at-garage-a-timeless-new-years-eve-bash-at-w-abu-dhabi', 'https://www.khaleejtimes.com/entertainment/welcome-2024-las-vegas-style-at-radisson-blu-hotel-dubai-deira-creek', 'https://www.khaleejtimes.com/entertainment/welcome-2024-las-vegas-style-at-radisson-blu-hotel-dubai-deira-creek', 'https://www.khaleejtimes.com/business/tech/experience-next-level-gaming-and-creativity-only-on-nvidia-rtx-40-series-laptops', 'https://www.khaleejtimes.com/business/tech/experience-next-level-gaming-and-creativity-only-on-nvidia-rtx-40-series-laptops', 'https://www.khaleejtimes.com/lifestyle/welcome-new-year-in-style-at-miss-tess', 'https://www.khaleejtimes.com/lifestyle/welcome-new-year-in-style-at-miss-tess', 'https://www.khaleejtimes.com/world/mena/hunger-hits-animals-and-people-alike-at-gaza-zoo', 'https://www.khaleejtimes.com/world/mena/hunger-hits-animals-and-people-alike-at-gaza-zoo', 'https://www.khaleejtimes.com/world/mena/israel-withdrawing-some-troops-from-gaza-as-war-enters-new-phase', 'https://www.khaleejtimes.com/world/mena/israel-withdrawing-some-troops-from-gaza-as-war-enters-new-phase', 'https://www.khaleejtimes.com/world/bangladesh-court-sentences-nobel-laureate-yunus-to-6-months-in-jail', 'https://www.khaleejtimes.com/world/bangladesh-court-sentences-nobel-laureate-yunus-to-6-months-in-jail', 'https://www.khaleejtimes.com/sports/tennis/swiatek-keeps-winning-in-united-cup-as-poland-reach-quarterfinals', 'https://www.khaleejtimes.com/sports/tennis/swiatek-keeps-winning-in-united-cup-as-poland-reach-quarterfinals', 'https://www.khaleejtimes.com/sports/football/which-club-could-be-kylian-mbappes-next-destination', 'https://www.khaleejtimes.com/sports/football/which-club-could-be-kylian-mbappes-next-destination', 'https://www.khaleejtimes.com/sports/tennis/2-time-wimbledon-champion-petra-kvitova-announces-pregnancy', 'https://www.khaleejtimes.com/sports/tennis/2-time-wimbledon-champion-petra-kvitova-announces-pregnancy', 'https://www.khaleejtimes.com/opinion/2023-the-year-that-made-me-feel-irrelevant', 'https://www.khaleejtimes.com/opinion/2023-the-year-that-made-me-feel-irrelevant', 'https://www.khaleejtimes.com/opinion/sustainability-through-innovation-is-key-to-the-future-of-healthcare', 'https://www.khaleejtimes.com/opinion/sustainability-through-innovation-is-key-to-the-future-of-healthcare', 'https://www.khaleejtimes.com/opinion/the-biggest-threats-to-global-economic-stability', 'https://www.khaleejtimes.com/opinion/the-biggest-threats-to-global-economic-stability', 'https://www.khaleejtimes.com/business/auto/car-review-porsche-718-cayman-gt4-rs-road-test-report', 'https://www.khaleejtimes.com/business/auto/car-review-porsche-718-cayman-gt4-rs-road-test-report', 'https://www.khaleejtimes.com/business/aviation/air-india-to-introduce-airbus-a350-flights-from-january-22', 'https://www.khaleejtimes.com/business/aviation/air-india-to-introduce-airbus-a350-flights-from-january-22', 'https://www.khaleejtimes.com/business/aviation/uae-new-flights-to-2-indian-cities-start-on-january-1', 'https://www.khaleejtimes.com/business/aviation/uae-new-flights-to-2-indian-cities-start-on-january-1', 'https://www.khaleejtimes.com/business/hayah-insurance-pioneering-a-digital-revolution-in-the-mena-insurance-sector', 'https://www.khaleejtimes.com/business/hayah-insurance-pioneering-a-digital-revolution-in-the-mena-insurance-sector', 'https://www.khaleejtimes.com/business/tim-hortons-brewing-a-modern-coffee-culture-in-the-heart-of-the-middle-east', 'https://www.khaleejtimes.com/business/tim-hortons-brewing-a-modern-coffee-culture-in-the-heart-of-the-middle-east', 'https://www.khaleejtimes.com/business/pioneering-remittance-specialist-al-fardan-exchange-adapts-to-the-evolving-financial-landscape', 'https://www.khaleejtimes.com/business/pioneering-remittance-specialist-al-fardan-exchange-adapts-to-the-evolving-financial-landscape', 'https://www.khaleejtimes.com/uae/legal/dubai-can-real-estate-company-deduct-money-from-the-tenants-security-deposit', 'https://www.khaleejtimes.com/uae/legal/dubai-can-real-estate-company-deduct-money-from-the-tenants-security-deposit', 'https://www.khaleejtimes.com/business/the-probable-rules-that-investors-may-wish-to-incorporate-in-their-rule-book-for-investing', 'https://www.khaleejtimes.com/business/the-probable-rules-that-investors-may-wish-to-incorporate-in-their-rule-book-for-investing', 'https://www.khaleejtimes.com/business/trapped-in-mortgage-debt-here-is-how-borrowers-can-get-out-of-the-trap', 'https://www.khaleejtimes.com/business/trapped-in-mortgage-debt-here-is-how-borrowers-can-get-out-of-the-trap', 'https://www.khaleejtimes.com/uae/uae-is-whatsapp-down-users-report-issues-while-using-app', 'https://www.khaleejtimes.com/uae/uae-is-whatsapp-down-users-report-issues-while-using-app', 'https://t.me/khaleejtimes', 'https://www.khaleejtimes.com/uae', 'https://www.khaleejtimes.com/uae/crime-and-courts', 'https://www.khaleejtimes.com/uae/government', 'https://www.khaleejtimes.com/uae/legal-view', 'https://www.khaleejtimes.com/uae/transport', 'https://www.khaleejtimes.com/uae/weather', 'https://www.khaleejtimes.com/opinion', 'https://www.khaleejtimes.com/world', 'https://www.khaleejtimes.com/gulf/saudi-arabia', 'https://www.khaleejtimes.com/gulf/bahrain', 'https://www.khaleejtimes.com/gulf/oman', 'https://www.khaleejtimes.com/gulf/kuwait', 'https://www.khaleejtimes.com/gulf/qatar', 'https://www.khaleejtimes.com/world/mena', 'https://www.khaleejtimes.com/asia/india', 'https://www.khaleejtimes.com/asia/pakistan', 'https://www.khaleejtimes.com/asia/philippines', 'https://www.khaleejtimes.com/world/americas', 'https://www.khaleejtimes.com/world/europe', 'https://www.khaleejtimes.com/business', 'https://www.khaleejtimes.com/business/auto', 'https://www.khaleejtimes.com/business/aviation', 'https://www.khaleejtimes.com/business/corporate', 'https://www.khaleejtimes.com/business/cryptocurrency', 'https://www.khaleejtimes.com/business/markets', 'https://www.khaleejtimes.com/business/economy', 'https://www.khaleejtimes.com/business/realty', 'https://www.khaleejtimes.com/business/start-ups', 'https://www.khaleejtimes.com/business/tech', 'https://www.khaleejtimes.com/business/currency-exchange', 'https://www.khaleejtimes.com/gold-and-forex', 'https://www.khaleejtimes.com/sports', 'https://www.khaleejtimes.com/sports/cricket', 'https://www.khaleejtimes.com/sports/football', 'https://www.khaleejtimes.com/sports/f-1', 'https://www.khaleejtimes.com/sports/golf', 'https://www.khaleejtimes.com/sports/horse-racing', 'https://www.khaleejtimes.com/sports/tennis', 'https://www.khaleejtimes.com/entertainment', 'https://www.khaleejtimes.com/entertainment/movies', 'https://www.khaleejtimes.com/entertainment/ott', 'https://www.khaleejtimes.com/entertainment/music', 'https://www.khaleejtimes.com/events', 'https://www.khaleejtimes.com/entertainment/newsmakers', 'https://www.khaleejtimes.com/uae-cinema-listings', 'https://www.khaleejtimes.com/lifestyle', 'https://www.khaleejtimes.com/lifestyle/art-and-culture', 'https://www.khaleejtimes.com/lifestyle/beauty', 'https://www.khaleejtimes.com/lifestyle/design', 'https://www.khaleejtimes.com/lifestyle/fashion', 'https://www.khaleejtimes.com/lifestyle/food-and-dining', 'https://www.khaleejtimes.com/lifestyle/health-and-fitness', 'https://www.khaleejtimes.com/lifestyle/home-and-garden', 'https://www.khaleejtimes.com/lifestyle/mental-health', 'https://www.khaleejtimes.com/lifestyle/parenting', 'https://www.khaleejtimes.com/lifestyle/relationships', 'https://www.khaleejtimes.com/videos', 'https://www.khaleejtimes.com/photos', 'https://www.khaleejtimes.com/about-us', 'https://www.khaleejtimes.com/advertise', 'https://www.khaleejtimes.com/contact-us', 'https://itunes.apple.com/ae/app/khaleej-times/id909275381?mt=8', 'https://appgallery5.huawei.com/#/app/C101150783', 'https://buzzon.khaleejtimes.com/', 'https://epaper.khaleejtimes.com/', 'https://buzzon.khaleejtimes.com/ad-category/jobs-vacancies/', 'https://subscriptions.khaleejtimes.com/home/subscription', 'https://www.youngtimes.com/']}\n",
      "Failed Fetch: 0\n",
      "Splits: 2\n",
      "Tree size: 339\n"
     ]
    },
    {
     "name": "stderr",
     "output_type": "stream",
     "text": [
      "\n"
     ]
    }
   ],
   "source": [
    "urls_list = [\"https://www.khaleejtimes.com\"]\n",
    "scraper = WebScraper(1) # KEEP IT 1, 2 or more will result in 1000's of urls.\n",
    "                        # Integration with DB will make it faster in future, as fetching is much faster than scrapping.\n",
    "inside_urls, failed_fetch, sub_url_size, total_size = scraper.get_suburls(urls_list)\n",
    "\n",
    "print(\"Inside URLs:\", inside_urls)\n",
    "print(\"Failed Fetch:\", failed_fetch)\n",
    "print(\"Splits:\", len(inside_urls))\n",
    "print(\"Tree size:\", total_size)"
   ]
  },
  {
   "cell_type": "markdown",
   "metadata": {},
   "source": [
    "## Joining sub urls into one single list"
   ]
  },
  {
   "cell_type": "code",
   "execution_count": 4,
   "metadata": {},
   "outputs": [
    {
     "name": "stdout",
     "output_type": "stream",
     "text": [
      "339\n"
     ]
    },
    {
     "data": {
      "text/plain": [
       "80"
      ]
     },
     "execution_count": 4,
     "metadata": {},
     "output_type": "execute_result"
    }
   ],
   "source": [
    "website_urls = [item for sublist in list(inside_urls.values()) for item in sublist]\n",
    "print(len(website_urls))\n",
    "\n",
    "website_urls = website_urls[259:] # For testing Purposes\n",
    "len(website_urls)"
   ]
  },
  {
   "cell_type": "markdown",
   "metadata": {},
   "source": [
    "## Creating {url : html content} dictionary"
   ]
  },
  {
   "cell_type": "code",
   "execution_count": null,
   "metadata": {},
   "outputs": [],
   "source": [
    "url_html_extracted = get_html(website_urls)\n",
    "url_html_extracted"
   ]
  },
  {
   "cell_type": "markdown",
   "metadata": {},
   "source": [
    "## Keyword extraction performed on above dictionary"
   ]
  },
  {
   "cell_type": "code",
   "execution_count": null,
   "metadata": {},
   "outputs": [],
   "source": [
    "keywords = [\"gaza\"]\n",
    "url_extracted_html = kep(website_content = url_html_extracted[0], keywords = keywords, filter_by_amount = 60)\n",
    "\n",
    "url_extracted_html"
   ]
  },
  {
   "cell_type": "markdown",
   "metadata": {},
   "source": [
    "## Converting dictionary to list of tuple pairs, for implementation of batches"
   ]
  },
  {
   "cell_type": "code",
   "execution_count": null,
   "metadata": {},
   "outputs": [],
   "source": [
    "content_list = [(key,value[:1000]) for key, value in url_extracted_html.items()] # 1000 is temporary until tokenier function is not set up\n",
    "content_list"
   ]
  },
  {
   "cell_type": "markdown",
   "metadata": {},
   "source": [
    "## Cutting the above list fo batches of batch size MAX_CONTENT"
   ]
  },
  {
   "cell_type": "code",
   "execution_count": 10,
   "metadata": {},
   "outputs": [],
   "source": [
    "MAX_CONTENT = 3\n",
    "\n",
    "content_list_complete = []\n",
    "\n",
    "iterations = len(content_list) // MAX_CONTENT\n",
    "\n",
    "for i in range(iterations):\n",
    "    sub_content_list = content_list[MAX_CONTENT * i: MAX_CONTENT * (i + 1)]\n",
    "    content_list_complete.append(sub_content_list)\n",
    "\n",
    "# Handle remaining elements after the loop\n",
    "remaining_elements = content_list[MAX_CONTENT * iterations:]\n",
    "if remaining_elements:\n",
    "    iterations += 1\n",
    "    content_list_complete.append(remaining_elements)"
   ]
  },
  {
   "cell_type": "markdown",
   "metadata": {},
   "source": [
    "## Openai's api"
   ]
  },
  {
   "cell_type": "code",
   "execution_count": 11,
   "metadata": {},
   "outputs": [
    {
     "name": "stdout",
     "output_type": "stream",
     "text": [
      "Batches 1 completed out of 4\n",
      "Batches 2 completed out of 4\n",
      "Batches 3 completed out of 4\n",
      "Batches 4 completed out of 4\n"
     ]
    }
   ],
   "source": [
    "question = \"Whats going on in gaza?\"\n",
    "\n",
    "response_complete = ''\n",
    "for data_idx in range(len(content_list_complete)):\n",
    "\n",
    "    prompt = f\"\"\" \n",
    "        Data is in the form of tuples inside list: {content_list_complete[data_idx]} \\n\\n\\n \n",
    "        Question: {question} \\n\\n\\n\n",
    "        Method of reply: 100 - 200 word sentences, clear reply,\n",
    "        provide url if neccessary.\n",
    "        \"\"\"\n",
    "\n",
    "\n",
    "    response = get_completion(prompt)\n",
    "    response_complete += response + \"\\n\\n\"\n",
    "    print(f\"Batche {data_idx + 1} out of {iterations} completed \")\n",
    "    "
   ]
  },
  {
   "cell_type": "code",
   "execution_count": 12,
   "metadata": {},
   "outputs": [],
   "source": [
    "with open(\"Output.txt\" , \"w\") as f:\n",
    "    f.write(response_complete)"
   ]
  }
 ],
 "metadata": {
  "kernelspec": {
   "display_name": "Python 3",
   "language": "python",
   "name": "python3"
  },
  "language_info": {
   "codemirror_mode": {
    "name": "ipython",
    "version": 3
   },
   "file_extension": ".py",
   "mimetype": "text/x-python",
   "name": "python",
   "nbconvert_exporter": "python",
   "pygments_lexer": "ipython3",
   "version": "3.11.5"
  }
 },
 "nbformat": 4,
 "nbformat_minor": 2
}
